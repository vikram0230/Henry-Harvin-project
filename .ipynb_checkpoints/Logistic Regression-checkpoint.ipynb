{
 "cells": [
  {
   "cell_type": "code",
   "execution_count": 1,
   "metadata": {},
   "outputs": [],
   "source": [
    "#Import packages\n",
    "import pandas as pd\n",
    "import numpy as np\n",
    "import matplotlib.pyplot as plt\n",
    "from sklearn.linear_model import LogisticRegression\n",
    "from sklearn.metrics import roc_auc_score\n",
    "from sklearn.metrics import roc_curve"
   ]
  },
  {
   "cell_type": "code",
   "execution_count": 2,
   "metadata": {},
   "outputs": [
    {
     "name": "stdout",
     "output_type": "stream",
     "text": [
      "    Loan_ID Gender Married Dependents     Education Self_Employed  \\\n",
      "0  LP001002   Male      No          0      Graduate            No   \n",
      "1  LP001003   Male     Yes          1      Graduate            No   \n",
      "2  LP001005   Male     Yes          0      Graduate           Yes   \n",
      "3  LP001006   Male     Yes          0  Not Graduate            No   \n",
      "4  LP001008   Male      No          0      Graduate            No   \n",
      "\n",
      "   ApplicantIncome  CoapplicantIncome  LoanAmount  Loan_Amount_Term  \\\n",
      "0             5849                0.0         NaN             360.0   \n",
      "1             4583             1508.0       128.0             360.0   \n",
      "2             3000                0.0        66.0             360.0   \n",
      "3             2583             2358.0       120.0             360.0   \n",
      "4             6000                0.0       141.0             360.0   \n",
      "\n",
      "   Credit_History Property_Area Loan_Status  \n",
      "0             1.0         Urban           Y  \n",
      "1             1.0         Rural           N  \n",
      "2             1.0         Urban           Y  \n",
      "3             1.0         Urban           Y  \n",
      "4             1.0         Urban           Y  \n"
     ]
    }
   ],
   "source": [
    "#Read the csv file\n",
    "df=pd.read_csv('https://raw.githubusercontent.com/vikram0230/Henry-Harvin-project/master/train.csv')\n",
    "print(df.head(5))"
   ]
  },
  {
   "cell_type": "code",
   "execution_count": 3,
   "metadata": {},
   "outputs": [],
   "source": [
    "#Replace Loan Status with binary"
   ]
  },
  {
   "cell_type": "code",
   "execution_count": 6,
   "metadata": {},
   "outputs": [
    {
     "name": "stdout",
     "output_type": "stream",
     "text": [
      "0    1\n",
      "1    0\n",
      "2    1\n",
      "3    1\n",
      "4    1\n",
      "Name: Loan_Status, dtype: int64\n"
     ]
    }
   ],
   "source": [
    "df['Loan_Status']=df['Loan_Status'].replace('Y',1)\n",
    "df['Loan_Status']=df['Loan_Status'].replace('N',0)\n",
    "print(df['Loan_Status'].head(5))"
   ]
  },
  {
   "cell_type": "code",
   "execution_count": 11,
   "metadata": {},
   "outputs": [
    {
     "name": "stdout",
     "output_type": "stream",
     "text": [
      "0    0.0\n",
      "1    0.0\n",
      "2    1.0\n",
      "3    0.0\n",
      "4    0.0\n",
      "Name: Self_Employed, dtype: float64\n"
     ]
    }
   ],
   "source": [
    "df['Self_Employed']=df['Self_Employed'].replace('Yes',1)\n",
    "df['Self_Employed']=df['Self_Employed'].replace('No',0)\n",
    "print(df['Self_Employed'].head(5))"
   ]
  },
  {
   "cell_type": "code",
   "execution_count": 12,
   "metadata": {},
   "outputs": [
    {
     "name": "stdout",
     "output_type": "stream",
     "text": [
      "0    1\n",
      "1    1\n",
      "2    1\n",
      "3    0\n",
      "4    1\n",
      "Name: Education, dtype: int64\n"
     ]
    }
   ],
   "source": [
    "df['Education']=df['Education'].replace('Graduate',1)\n",
    "df['Education']=df['Education'].replace('Not Graduate',0)\n",
    "print(df['Education'].head(5))"
   ]
  },
  {
   "cell_type": "code",
   "execution_count": 13,
   "metadata": {},
   "outputs": [
    {
     "name": "stdout",
     "output_type": "stream",
     "text": [
      "0    0.0\n",
      "1    1.0\n",
      "2    1.0\n",
      "3    1.0\n",
      "4    0.0\n",
      "Name: Married, dtype: float64\n"
     ]
    }
   ],
   "source": [
    "df['Married']=df['Married'].replace('Yes',1)\n",
    "df['Married']=df['Married'].replace('No',0)\n",
    "print(df['Married'].head(5))"
   ]
  },
  {
   "cell_type": "code",
   "execution_count": 15,
   "metadata": {},
   "outputs": [
    {
     "name": "stdout",
     "output_type": "stream",
     "text": [
      "0    0\n",
      "1    1\n",
      "2    0\n",
      "3    0\n",
      "4    0\n",
      "5    2\n",
      "6    0\n",
      "7    3\n",
      "8    2\n",
      "9    1\n",
      "Name: Dependents, dtype: object\n"
     ]
    }
   ],
   "source": [
    "df['Dependents']=df['Dependents'].replace('3+',3)\n",
    "print(df['Dependents'].head(10))"
   ]
  },
  {
   "cell_type": "code",
   "execution_count": 16,
   "metadata": {},
   "outputs": [
    {
     "data": {
      "text/plain": [
       "Index(['Loan_ID', 'Gender', 'Married', 'Dependents', 'Education',\n",
       "       'Self_Employed', 'ApplicantIncome', 'CoapplicantIncome', 'LoanAmount',\n",
       "       'Loan_Amount_Term', 'Credit_History', 'Property_Area', 'Loan_Status'],\n",
       "      dtype='object')"
      ]
     },
     "execution_count": 16,
     "metadata": {},
     "output_type": "execute_result"
    }
   ],
   "source": [
    "df.columns"
   ]
  },
  {
   "cell_type": "code",
   "execution_count": null,
   "metadata": {},
   "outputs": [],
   "source": [
    "#Filling empty spaces with 0"
   ]
  },
  {
   "cell_type": "code",
   "execution_count": 17,
   "metadata": {},
   "outputs": [],
   "source": [
    "df.isnull().sum()\n",
    "df=df.fillna(0)"
   ]
  },
  {
   "cell_type": "code",
   "execution_count": 18,
   "metadata": {},
   "outputs": [],
   "source": [
    "x=df.iloc[:,3:11].values\n",
    "y=df.iloc[:,12]"
   ]
  },
  {
   "cell_type": "code",
   "execution_count": null,
   "metadata": {},
   "outputs": [],
   "source": [
    "#Creating test and train model"
   ]
  },
  {
   "cell_type": "code",
   "execution_count": 19,
   "metadata": {},
   "outputs": [],
   "source": [
    "from sklearn.model_selection import train_test_split\n",
    "x_train,x_test,y_train,y_test=train_test_split(x,y,train_size=2/3,random_state=0)\n"
   ]
  },
  {
   "cell_type": "code",
   "execution_count": 20,
   "metadata": {},
   "outputs": [],
   "source": [
    "#Scaling the model"
   ]
  },
  {
   "cell_type": "code",
   "execution_count": 22,
   "metadata": {},
   "outputs": [
    {
     "name": "stdout",
     "output_type": "stream",
     "text": [
      "[[ 2.15219873 -1.89618185  2.4356115  ... -0.12559309  0.32179227\n",
      "   0.56134886]\n",
      " [-0.78196554  0.52737558  2.4356115  ...  0.3153303   0.32179227\n",
      "   0.56134886]\n",
      " [ 2.15219873  0.52737558 -0.41057451 ... -1.16988533 -1.85963928\n",
      "   0.56134886]\n",
      " ...\n",
      " [ 2.15219873  0.52737558 -0.41057451 ...  0.6866342   0.32179227\n",
      "   0.56134886]\n",
      " [-0.78196554 -1.89618185 -0.41057451 ...  0.22250432  0.32179227\n",
      "   0.56134886]\n",
      " [-0.78196554  0.52737558 -0.41057451 ...  0.47777576  0.32179227\n",
      "   0.56134886]]\n"
     ]
    }
   ],
   "source": [
    "from sklearn.preprocessing import StandardScaler\n",
    "sc=StandardScaler()\n",
    "x_train=sc.fit_transform(x_train)\n",
    "x_test=sc.transform(x_test)\n",
    "print(x_train)"
   ]
  },
  {
   "cell_type": "code",
   "execution_count": 23,
   "metadata": {},
   "outputs": [
    {
     "name": "stdout",
     "output_type": "stream",
     "text": [
      "[[-0.78196554  0.52737558  2.4356115  ... -0.65934246  0.32179227\n",
      "   0.56134886]\n",
      " [-0.78196554  0.52737558 -0.41057451 ... -0.33445154  0.32179227\n",
      "   0.56134886]\n",
      " [-0.78196554  0.52737558 -0.41057451 ...  2.12543684  0.32179227\n",
      "   0.56134886]\n",
      " ...\n",
      " [-0.78196554  0.52737558 -0.41057451 ... -1.14667883 -1.85963928\n",
      "   0.56134886]\n",
      " [ 1.17414397 -1.89618185 -0.41057451 ... -1.11186909 -1.85963928\n",
      "  -1.78142342]\n",
      " [-0.78196554  0.52737558 -0.41057451 ...  4.97983562  0.32179227\n",
      "   0.56134886]]\n"
     ]
    }
   ],
   "source": [
    "print(x_test)"
   ]
  },
  {
   "cell_type": "code",
   "execution_count": 24,
   "metadata": {},
   "outputs": [],
   "source": [
    "#Fitting the model"
   ]
  },
  {
   "cell_type": "code",
   "execution_count": 25,
   "metadata": {},
   "outputs": [
    {
     "name": "stderr",
     "output_type": "stream",
     "text": [
      "C:\\Users\\Subashini\\Anaconda3\\lib\\site-packages\\sklearn\\linear_model\\logistic.py:432: FutureWarning: Default solver will be changed to 'lbfgs' in 0.22. Specify a solver to silence this warning.\n",
      "  FutureWarning)\n"
     ]
    },
    {
     "data": {
      "text/plain": [
       "LogisticRegression(C=1.0, class_weight=None, dual=False, fit_intercept=True,\n",
       "                   intercept_scaling=1, l1_ratio=None, max_iter=100,\n",
       "                   multi_class='warn', n_jobs=None, penalty='l2',\n",
       "                   random_state=None, solver='warn', tol=0.0001, verbose=0,\n",
       "                   warm_start=False)"
      ]
     },
     "execution_count": 25,
     "metadata": {},
     "output_type": "execute_result"
    }
   ],
   "source": [
    "lr=LogisticRegression()\n",
    "lr.fit(x_train,y_train)"
   ]
  },
  {
   "cell_type": "code",
   "execution_count": 26,
   "metadata": {},
   "outputs": [],
   "source": [
    "#predicting the model"
   ]
  },
  {
   "cell_type": "code",
   "execution_count": 28,
   "metadata": {},
   "outputs": [
    {
     "name": "stdout",
     "output_type": "stream",
     "text": [
      "[1 1 1 1 1 0 1 1 0 1 1 1 1 1 1 1 0 1 0 0 0 1 1 1 0 1 1 1 0 0 1 1 1 1 1 0 1\n",
      " 1 1 1 1 0 1 1 1 1 1 1 1 1 1 1 1 1 1 0 1 1 1 1 0 1 1 0 1 1 0 1 1 0 0 1 1 1\n",
      " 1 1 0 1 1 0 1 1 1 1 1 0 1 1 1 1 1 1 1 0 1 0 1 1 1 1 1 1 1 1 1 1 1 1 1 1 1\n",
      " 1 1 1 0 0 0 1 1 1 1 0 1 1 0 0 1 1 1 1 1 1 1 1 1 1 1 0 1 1 0 1 0 1 1 1 1 1\n",
      " 0 0 1 1 1 0 1 1 1 1 1 1 1 1 1 1 1 1 1 1 0 1 0 0 1 1 1 1 1 1 1 1 1 1 1 1 1\n",
      " 1 1 1 0 1 1 1 0 1 0 1 1 1 0 1 1 1 1 0 1]\n"
     ]
    }
   ],
   "source": [
    "y_predict=lr.predict(x_test)\n",
    "print(y_predict)"
   ]
  },
  {
   "cell_type": "code",
   "execution_count": 29,
   "metadata": {},
   "outputs": [],
   "source": [
    "#Confusion Matrix"
   ]
  },
  {
   "cell_type": "code",
   "execution_count": 30,
   "metadata": {},
   "outputs": [
    {
     "name": "stdout",
     "output_type": "stream",
     "text": [
      "[[ 29  31]\n",
      " [ 13 132]]\n"
     ]
    }
   ],
   "source": [
    "from sklearn.metrics import confusion_matrix\n",
    "cf=confusion_matrix(y_test,y_predict)\n",
    "print(cf)"
   ]
  },
  {
   "cell_type": "code",
   "execution_count": 31,
   "metadata": {},
   "outputs": [],
   "source": [
    "#Loan Sanction Freqency depending on Education"
   ]
  },
  {
   "cell_type": "code",
   "execution_count": 32,
   "metadata": {},
   "outputs": [
    {
     "data": {
      "text/plain": [
       "Text(0, 0.5, 'Loans Sanctioned')"
      ]
     },
     "execution_count": 32,
     "metadata": {},
     "output_type": "execute_result"
    },
    {
     "data": {
      "image/png": "[encoded data removed]",
      "text/plain": [
       "<Figure size 432x288 with 1 Axes>"
      ]
     },
     "metadata": {
      "needs_background": "light"
     },
     "output_type": "display_data"
    }
   ],
   "source": [
    "pd.crosstab(df.Education,df.Loan_Status).plot(kind='bar')\n",
    "plt.title('Loan Sanction Frequency')\n",
    "plt.ylabel('Loans Sanctioned')"
   ]
  },
  {
   "cell_type": "code",
   "execution_count": 33,
   "metadata": {},
   "outputs": [],
   "source": [
    "#Loan Sanction frequency depending on Credit History"
   ]
  },
  {
   "cell_type": "code",
   "execution_count": 34,
   "metadata": {},
   "outputs": [
    {
     "data": {
      "text/plain": [
       "Text(0, 0.5, 'No. of Loans')"
      ]
     },
     "execution_count": 34,
     "metadata": {},
     "output_type": "execute_result"
    },
    {
     "data": {
      "image/png": "[encoded data removed]",
      "text/plain": [
       "<Figure size 432x288 with 1 Axes>"
      ]
     },
     "metadata": {
      "needs_background": "light"
     },
     "output_type": "display_data"
    }
   ],
   "source": [
    "pd.crosstab(df.Loan_Status,df.Credit_History).plot(kind='bar')\n",
    "plt.title('Loan Sanction Frequency (Credits)')\n",
    "plt.ylabel('No. of Loans')"
   ]
  },
  {
   "cell_type": "code",
   "execution_count": 35,
   "metadata": {},
   "outputs": [],
   "source": [
    "#Loan Status vs Applicant income"
   ]
  },
  {
   "cell_type": "code",
   "execution_count": 36,
   "metadata": {},
   "outputs": [
    {
     "data": {
      "text/plain": [
       "Text(0, 0.5, 'Loan Status')"
      ]
     },
     "execution_count": 36,
     "metadata": {},
     "output_type": "execute_result"
    },
    {
     "data": {
      "image/png": "[encoded data removed]",
      "text/plain": [
       "<Figure size 432x288 with 1 Axes>"
      ]
     },
     "metadata": {
      "needs_background": "light"
     },
     "output_type": "display_data"
    }
   ],
   "source": [
    "plt.scatter(df.ApplicantIncome,df.Loan_Status)\n",
    "plt.xlabel('Applicant Income')\n",
    "plt.ylabel('Loan Status')"
   ]
  },
  {
   "cell_type": "code",
   "execution_count": 38,
   "metadata": {},
   "outputs": [
    {
     "name": "stdout",
     "output_type": "stream",
     "text": [
      "[0.         0.         0.         0.03333333 0.03333333 0.05\n",
      " 0.05       0.06666667 0.06666667 0.08333333 0.08333333 0.1\n",
      " 0.1        0.11666667 0.11666667 0.13333333 0.13333333 0.16666667\n",
      " 0.16666667 0.2        0.2        0.21666667 0.21666667 0.23333333\n",
      " 0.23333333 0.26666667 0.26666667 0.28333333 0.28333333 0.3\n",
      " 0.3        0.33333333 0.33333333 0.36666667 0.36666667 0.38333333\n",
      " 0.38333333 0.4        0.4        0.41666667 0.41666667 0.43333333\n",
      " 0.43333333 0.45       0.45       0.46666667 0.46666667 0.48333333\n",
      " 0.48333333 0.5        0.5        0.51666667 0.51666667 0.63333333\n",
      " 0.63333333 0.65       0.65       0.66666667 0.66666667 0.73333333\n",
      " 0.73333333 0.76666667 0.76666667 0.8        0.8        0.88333333\n",
      " 0.88333333 0.9        0.9        0.91666667 0.91666667 0.98333333\n",
      " 0.98333333 1.        ]\n"
     ]
    }
   ],
   "source": [
    "fpr,tpr,thresholds=roc_curve(y_test,lr.predict_proba(x_test)[:,1])\n",
    "print(fpr)"
   ]
  },
  {
   "cell_type": "code",
   "execution_count": 39,
   "metadata": {},
   "outputs": [
    {
     "name": "stdout",
     "output_type": "stream",
     "text": [
      "[0.         0.00689655 0.0137931  0.0137931  0.02068966 0.02068966\n",
      " 0.02758621 0.02758621 0.10344828 0.10344828 0.13793103 0.13793103\n",
      " 0.14482759 0.14482759 0.16551724 0.16551724 0.17241379 0.17241379\n",
      " 0.22758621 0.22758621 0.28275862 0.28275862 0.30344828 0.30344828\n",
      " 0.34482759 0.34482759 0.35862069 0.35862069 0.39310345 0.39310345\n",
      " 0.42758621 0.42758621 0.48275862 0.48275862 0.59310345 0.59310345\n",
      " 0.6        0.6        0.6137931  0.6137931  0.69655172 0.69655172\n",
      " 0.71034483 0.71034483 0.73793103 0.73793103 0.74482759 0.74482759\n",
      " 0.7862069  0.7862069  0.87586207 0.87586207 0.91034483 0.91034483\n",
      " 0.91724138 0.91724138 0.92413793 0.92413793 0.93103448 0.93103448\n",
      " 0.93793103 0.93793103 0.95862069 0.95862069 0.96551724 0.96551724\n",
      " 0.97241379 0.97241379 0.9862069  0.9862069  0.99310345 0.99310345\n",
      " 1.         1.        ]\n"
     ]
    }
   ],
   "source": [
    "print(tpr)"
   ]
  },
  {
   "cell_type": "code",
   "execution_count": 40,
   "metadata": {},
   "outputs": [
    {
     "name": "stdout",
     "output_type": "stream",
     "text": [
      "[1.91178228 0.91178228 0.90970499 0.88114398 0.88048925 0.87716682\n",
      " 0.87560022 0.87522854 0.84342595 0.84273344 0.83072134 0.82971816\n",
      " 0.82957752 0.82828846 0.82495781 0.8242059  0.82296952 0.82198561\n",
      " 0.81162133 0.810847   0.80352716 0.80312532 0.80197794 0.80168257\n",
      " 0.7996261  0.7990348  0.79654231 0.79591075 0.79365928 0.79332968\n",
      " 0.78960478 0.78946359 0.787539   0.78720309 0.78398832 0.78394261\n",
      " 0.77884687 0.7784759  0.77818058 0.77762213 0.76430308 0.76185478\n",
      " 0.75970444 0.75700293 0.74604404 0.74525031 0.74077323 0.7406437\n",
      " 0.7307887  0.73044895 0.71242678 0.71093554 0.65954253 0.37180156\n",
      " 0.35611701 0.34814385 0.34719027 0.33971467 0.33785218 0.31892201\n",
      " 0.31412523 0.31035901 0.29965333 0.29669281 0.2825722  0.2679189\n",
      " 0.2670486  0.26164513 0.26017412 0.25913416 0.25320922 0.23500091\n",
      " 0.22669648 0.20782565]\n"
     ]
    }
   ],
   "source": [
    "print(thresholds)"
   ]
  },
  {
   "cell_type": "code",
   "execution_count": null,
   "metadata": {},
   "outputs": [],
   "source": [
    "#ROC Curve"
   ]
  },
  {
   "cell_type": "code",
   "execution_count": 41,
   "metadata": {},
   "outputs": [
    {
     "name": "stderr",
     "output_type": "stream",
     "text": [
      "No handles with labels found to put in legend.\n"
     ]
    },
    {
     "data": {
      "text/plain": [
       "<matplotlib.legend.Legend at 0x1375fcf9ba8>"
      ]
     },
     "execution_count": 41,
     "metadata": {},
     "output_type": "execute_result"
    },
    {
     "data": {
      "image/png": "[encoded data removed]",
      "text/plain": [
       "<Figure size 432x288 with 1 Axes>"
      ]
     },
     "metadata": {
      "needs_background": "light"
     },
     "output_type": "display_data"
    }
   ],
   "source": [
    "plt.figure()\n",
    "plt.plot(fpr,tpr)\n",
    "plt.plot([0,1],[0,1],'r--')\n",
    "plt.xlim([0.0,1.0])\n",
    "plt.ylim([0.0,1.0])\n",
    "plt.xlabel('fpr')\n",
    "plt.ylabel('tpr')\n",
    "plt.title('Error Analysis')\n",
    "plt.legend(loc='lower right')"
   ]
  },
  {
   "cell_type": "code",
   "execution_count": null,
   "metadata": {},
   "outputs": [],
   "source": []
  }
 ],
 "metadata": {
  "kernelspec": {
   "display_name": "Python 3",
   "language": "python",
   "name": "python3"
  },
  "language_info": {
   "codemirror_mode": {
    "name": "ipython",
    "version": 3
   },
   "file_extension": ".py",
   "mimetype": "text/x-python",
   "name": "python",
   "nbconvert_exporter": "python",
   "pygments_lexer": "ipython3",
   "version": "3.7.3"
  }
 },
 "nbformat": 4,
 "nbformat_minor": 2
}
